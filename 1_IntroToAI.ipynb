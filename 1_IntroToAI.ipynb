{
  "nbformat": 4,
  "nbformat_minor": 0,
  "metadata": {
    "colab": {
      "name": "1-IntroToAI",
      "provenance": [],
      "collapsed_sections": [],
      "include_colab_link": true
    },
    "kernelspec": {
      "name": "python3",
      "display_name": "Python 3"
    }
  },
  "cells": [
    {
      "cell_type": "markdown",
      "metadata": {
        "id": "view-in-github",
        "colab_type": "text"
      },
      "source": [
        "<a href=\"https://colab.research.google.com/github/nishanthjois/Deep-Learning-Advanced/blob/master/1_IntroToAI.ipynb\" target=\"_parent\"><img src=\"https://colab.research.google.com/assets/colab-badge.svg\" alt=\"Open In Colab\"/></a>"
      ]
    },
    {
      "cell_type": "markdown",
      "metadata": {
        "id": "NsfsdkFd7iiw",
        "colab_type": "text"
      },
      "source": [
        "# **Artificial General Intelligence (AGI)**"
      ]
    },
    {
      "cell_type": "markdown",
      "metadata": {
        "id": "KIw8Lo-7FVkr",
        "colab_type": "text"
      },
      "source": [
        "**Artificial General Intelligence (AGI) to refer to machines with human-level or higher intelligence, capable of abstracting concepts from limited experience and transferring knowledge between domains**. *Ref: appliedaibook.com*"
      ]
    },
    {
      "cell_type": "markdown",
      "metadata": {
        "id": "JMdf3C3rxf1a",
        "colab_type": "text"
      },
      "source": [
        "*In particular areas machines have superhuman performance, but in terms of general intelligence we’re not even close to a rat.” - Yann LeCun, head of AI at Facebook*"
      ]
    },
    {
      "cell_type": "markdown",
      "metadata": {
        "id": "cQidBxy3xtwH",
        "colab_type": "text"
      },
      "source": [
        "Approaches that work well for solving narrow problems do not generalize well to tasks such as abstract reasoning, concept formulation, and strategic planning—capabilities that even human toddlers possess but our computers do not."
      ]
    },
    {
      "cell_type": "markdown",
      "metadata": {
        "id": "mj-NknRC9TDM",
        "colab_type": "text"
      },
      "source": [
        "**Fun facts of AlphaGo:**\n",
        "\n",
        "*AlphaGo is the first computer program to defeat a professional human Go player, the first to defeat a Go world champion, and is arguably the strongest Go player in history. - Google ![alt text](https://lh3.googleusercontent.com/37MInQU4NwrBMaweiqWRqZGRmYnV5dXHE--SG4L32FHVBsPaY7kBGXaZIZWIKtg21BATIbD1KH-o7lVPYliQafkQ4SZMe8O0Lc_K=w1440-rw-v1)*\n",
        "\n",
        "- https://www.youtube.com/watch?v=WXuK6gekU1Y\n",
        "\n",
        "- https://www.nature.com/articles/nature24270\n",
        "\n",
        "- https://www.newyorker.com/science/elements/how-the-artificial-intelligence-program-alphazero-mastered-its-games\n",
        "\n",
        "- https://www.theverge.com/2019/11/27/20985260/ai-go-alphago-lee-se-dol-retired-deepmind-defeat"
      ]
    },
    {
      "cell_type": "markdown",
      "metadata": {
        "id": "gNVFbhnU7in4",
        "colab_type": "text"
      },
      "source": [
        "# **Machine learning, data science, AI, deep learning are examples of machine intelligence**\n"
      ]
    },
    {
      "cell_type": "markdown",
      "metadata": {
        "id": "4NsJWVnp9cjV",
        "colab_type": "text"
      },
      "source": [
        "**Business leaders must focus on ultimate goal and real world results and choose a model or method accordingly.**\n",
        "\n",
        "\n",
        "\n"
      ]
    },
    {
      "cell_type": "markdown",
      "metadata": {
        "id": "0LwB7coz7iqf",
        "colab_type": "text"
      },
      "source": [
        "**Statistics**\n",
        "- Statistics is the discipline concerned with the collection, analysis, description, visualization, and drawing of inferences from data.\n",
        "\n",
        "**Data mining**\n",
        "- The goal of data mining is to extract patterns and knowledge from large-scale datasets so that they can be reshaped into a more understandable structure for later analysis.\n",
        "\n",
        "**Machine learning**\n",
        "- What if the problem is so complex that it’s impossible for you to encode all of the rules and knowledge upfront?\n",
        "\n",
        "- Machine learning enables computers to learn without being explicitly programmed. It is a field in computer science that builds on top of computational statistics and data mining.\n",
        "\n",
        "**Deep learning**\n",
        "\n",
        "- Subfield of machine learning that builds algorithms by using multi-layered artificial neural networks, which are mathematical structures loosely inspired by how biological neurons fire\n",
        "\n",
        "**Reinforcement learning**\n",
        "- Learning by trial-and-error, in which a computer program is instructed to achieve a stated goal in a dynamic environment.\n"
      ]
    },
    {
      "cell_type": "markdown",
      "metadata": {
        "id": "68cCgpm67isv",
        "colab_type": "text"
      },
      "source": [
        "# **Challenges of AI**"
      ]
    },
    {
      "cell_type": "markdown",
      "metadata": {
        "id": "B5evxgwt7ivO",
        "colab_type": "text"
      },
      "source": [
        "- We cannot blindly trust the output of automated systems without \n",
        "vetting the accuracy of both the input data and the decision-making process itself. \n",
        "\n",
        "- Many machine learning algorithms already influence our daily decisions and actions, but bad data and methodological mistakes can easily lead to erroneous results."
      ]
    },
    {
      "cell_type": "markdown",
      "metadata": {
        "id": "c776-nktBqQ0",
        "colab_type": "text"
      },
      "source": [
        "- *Poorer communities lack access to digital healthcare, which leaves a gaping hole in the medical information that is fed into AI algorithms.*\n",
        "\n",
        "\n"
      ]
    },
    {
      "cell_type": "markdown",
      "metadata": {
        "id": "RbdvNl227iyX",
        "colab_type": "text"
      },
      "source": [
        "- *In California, a flight-risk algorithm in use by the San Francisco Superior Court mistakenly recommended a man for release before trial. Despite multiple previous probation violations and arrests for gun possession, the algorithm judged him to be a minimal flight risk. Five days after release, he and a partner shot a local photographer.*"
      ]
    },
    {
      "cell_type": "markdown",
      "metadata": {
        "id": "jk_MaUHA7i10",
        "colab_type": "text"
      },
      "source": [
        "    - *Reason: someone had mis-entered the number of days that he had already spent in jail.*"
      ]
    },
    {
      "cell_type": "markdown",
      "metadata": {
        "id": "dFCVxqynBb67",
        "colab_type": "text"
      },
      "source": [
        "- *One grim possibility is the deployment of autonomous weapons systems, such as a drone, using facial recognition technology to identify and attack individuals in a crowd.*\n",
        "\n"
      ]
    },
    {
      "cell_type": "markdown",
      "metadata": {
        "id": "rhut1BJ1CgZJ",
        "colab_type": "text"
      },
      "source": [
        "# **Contents**"
      ]
    },
    {
      "cell_type": "markdown",
      "metadata": {
        "id": "HeN2RwTmCmfx",
        "colab_type": "text"
      },
      "source": [
        "1. Intro to AI\n",
        "2. Frequently used terminologies in AI \n",
        "3. Hands on Python\n",
        "4. Overview of Statistics required for machine learning\n",
        "5. Overview of Linear Algebra required for machine learning\n",
        "6. Hands on Numpy\n",
        "7. Hands on Pandas\n",
        "8. Handas on sk-learn\n",
        "9. Linear Regression\n",
        "10. Logistic Regression\n",
        "11. SVM\n",
        "12. KNN\n",
        "13. Kmeans\n",
        "14. Decision Tress\n",
        "15. Ensemble methods \n",
        "16. Intro to Computer Vision\n",
        "17. Intro to Tensorflow and Keras\n",
        "18. CNN\n",
        "19. LSTM\n",
        "20. GANs\n",
        "21. Intro to PySpark\n",
        "22. AI on Cloud\n",
        "23. AI on Edge\n",
        "\n",
        "**+ Case studies** \n",
        "\n"
      ]
    }
  ]
}